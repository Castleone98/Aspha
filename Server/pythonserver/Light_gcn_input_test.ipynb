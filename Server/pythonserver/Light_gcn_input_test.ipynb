{
 "cells": [
  {
   "cell_type": "code",
   "execution_count": 44,
   "id": "c1d042a9",
   "metadata": {},
   "outputs": [],
   "source": [
    "## 라이브러리 ##\n",
    "import random\n",
    "from tqdm.notebook import tqdm\n",
    "import pandas as pd\n",
    "import numpy as np\n",
    "import matplotlib.pyplot as plt\n",
    "from sklearn.model_selection import train_test_split\n",
    "from sklearn import model_selection, metrics, preprocessing\n",
    "import copy\n",
    "from torch_geometric.utils import degree\n",
    "from collections import defaultdict\n",
    "\n",
    "import torch\n",
    "from torch import nn, optim, Tensor\n",
    "\n",
    "from torch_sparse import SparseTensor, matmul\n",
    "\n",
    "from torch_geometric.utils import structured_negative_sampling\n",
    "from torch_geometric.data import download_url, extract_zip\n",
    "from torch_geometric.nn.conv.gcn_conv import gcn_norm\n",
    "from torch_geometric.nn.conv import MessagePassing\n",
    "from torch_geometric.typing import Adj\n",
    "\n",
    "from scipy import sparse"
   ]
  },
  {
   "cell_type": "code",
   "execution_count": 45,
   "id": "6c03888a",
   "metadata": {
    "scrolled": true
   },
   "outputs": [
    {
     "data": {
      "text/html": [
       "<div>\n",
       "<style scoped>\n",
       "    .dataframe tbody tr th:only-of-type {\n",
       "        vertical-align: middle;\n",
       "    }\n",
       "\n",
       "    .dataframe tbody tr th {\n",
       "        vertical-align: top;\n",
       "    }\n",
       "\n",
       "    .dataframe thead th {\n",
       "        text-align: right;\n",
       "    }\n",
       "</style>\n",
       "<table border=\"1\" class=\"dataframe\">\n",
       "  <thead>\n",
       "    <tr style=\"text-align: right;\">\n",
       "      <th></th>\n",
       "      <th>나이성별</th>\n",
       "      <th>차량아이디</th>\n",
       "      <th>차량아이디_빈도수</th>\n",
       "      <th>scaled_차량아이디_빈도수</th>\n",
       "    </tr>\n",
       "  </thead>\n",
       "  <tbody>\n",
       "    <tr>\n",
       "      <th>5945</th>\n",
       "      <td>1</td>\n",
       "      <td>106</td>\n",
       "      <td>7</td>\n",
       "      <td>1.281250</td>\n",
       "    </tr>\n",
       "    <tr>\n",
       "      <th>3758</th>\n",
       "      <td>1</td>\n",
       "      <td>5</td>\n",
       "      <td>22</td>\n",
       "      <td>1.984375</td>\n",
       "    </tr>\n",
       "    <tr>\n",
       "      <th>3439</th>\n",
       "      <td>1</td>\n",
       "      <td>30</td>\n",
       "      <td>34</td>\n",
       "      <td>2.546875</td>\n",
       "    </tr>\n",
       "    <tr>\n",
       "      <th>4095</th>\n",
       "      <td>1</td>\n",
       "      <td>40</td>\n",
       "      <td>19</td>\n",
       "      <td>1.843750</td>\n",
       "    </tr>\n",
       "    <tr>\n",
       "      <th>622</th>\n",
       "      <td>1</td>\n",
       "      <td>14</td>\n",
       "      <td>193</td>\n",
       "      <td>10.000000</td>\n",
       "    </tr>\n",
       "    <tr>\n",
       "      <th>...</th>\n",
       "      <td>...</td>\n",
       "      <td>...</td>\n",
       "      <td>...</td>\n",
       "      <td>...</td>\n",
       "    </tr>\n",
       "    <tr>\n",
       "      <th>7085</th>\n",
       "      <td>130</td>\n",
       "      <td>91</td>\n",
       "      <td>4</td>\n",
       "      <td>4.857143</td>\n",
       "    </tr>\n",
       "    <tr>\n",
       "      <th>3956</th>\n",
       "      <td>130</td>\n",
       "      <td>84</td>\n",
       "      <td>1</td>\n",
       "      <td>1.000000</td>\n",
       "    </tr>\n",
       "    <tr>\n",
       "      <th>5025</th>\n",
       "      <td>132</td>\n",
       "      <td>85</td>\n",
       "      <td>1</td>\n",
       "      <td>1.000000</td>\n",
       "    </tr>\n",
       "    <tr>\n",
       "      <th>5050</th>\n",
       "      <td>132</td>\n",
       "      <td>101</td>\n",
       "      <td>1</td>\n",
       "      <td>1.000000</td>\n",
       "    </tr>\n",
       "    <tr>\n",
       "      <th>3671</th>\n",
       "      <td>132</td>\n",
       "      <td>14</td>\n",
       "      <td>2</td>\n",
       "      <td>10.000000</td>\n",
       "    </tr>\n",
       "  </tbody>\n",
       "</table>\n",
       "<p>9193 rows × 4 columns</p>\n",
       "</div>"
      ],
      "text/plain": [
       "      나이성별  차량아이디  차량아이디_빈도수  scaled_차량아이디_빈도수\n",
       "5945     1    106          7          1.281250\n",
       "3758     1      5         22          1.984375\n",
       "3439     1     30         34          2.546875\n",
       "4095     1     40         19          1.843750\n",
       "622      1     14        193         10.000000\n",
       "...    ...    ...        ...               ...\n",
       "7085   130     91          4          4.857143\n",
       "3956   130     84          1          1.000000\n",
       "5025   132     85          1          1.000000\n",
       "5050   132    101          1          1.000000\n",
       "3671   132     14          2         10.000000\n",
       "\n",
       "[9193 rows x 4 columns]"
      ]
     },
     "execution_count": 45,
     "metadata": {},
     "output_type": "execute_result"
    }
   ],
   "source": [
    "df = pd.read_csv(\"Kaflix_차량아이디.csv\")\n",
    "df= df.sort_values('나이성별')\n",
    "df"
   ]
  },
  {
   "cell_type": "code",
   "execution_count": 46,
   "id": "a27f90f8",
   "metadata": {},
   "outputs": [],
   "source": [
    "user = preprocessing.LabelEncoder()\n",
    "item = preprocessing.LabelEncoder()\n",
    "\n",
    "df.나이성별 = user.fit_transform(df.나이성별.values)\n",
    "df.차량아이디 = item.fit_transform(df.차량아이디.values)"
   ]
  },
  {
   "cell_type": "code",
   "execution_count": 47,
   "id": "8af041c4",
   "metadata": {},
   "outputs": [],
   "source": [
    "# graph의 형태로 변환하는 함수\n",
    "def load_edge_csv(df, src_index_col, dst_index_col, link_index_col, rating_threshold = 3.5 ):\n",
    "    edge_index = None\n",
    "    src = [user_id for user_id in df['나이성별']]\n",
    "    \n",
    "    num_users = len(df['나이성별'].unique())\n",
    "    \n",
    "    dst = [(item_id) for item_id in df['차량아이디']]\n",
    "    \n",
    "    link_vals = df[link_index_col].values\n",
    "    \n",
    "    edge_attr = torch.from_numpy(df[link_index_col].values).view(-1, 1).to(torch.long) >= rating_threshold\n",
    "    \n",
    "    # 평점이 들어감\n",
    "    edge_values = []\n",
    "    # src에는 회원번호가 dst에는 차량아이디\n",
    "    edge_index = [[], []]\n",
    "    \n",
    "    for i in range(edge_attr.shape[0]):\n",
    "        if edge_attr[i]:\n",
    "            edge_index[0].append(src[i])\n",
    "            edge_index[1].append(dst[i])\n",
    "            edge_values.append(link_vals[i])\n",
    "            \n",
    "    return edge_index, edge_values"
   ]
  },
  {
   "cell_type": "code",
   "execution_count": 48,
   "id": "dbe7bb36",
   "metadata": {},
   "outputs": [],
   "source": [
    "# src : 나이성별\n",
    "# dst : 차량아이디\n",
    "# edge : count\n",
    "edge_index, edge_values = load_edge_csv(\n",
    "    df,\n",
    "    src_index_col = '나이성별',\n",
    "    dst_index_col = '차량아이디',\n",
    "    link_index_col = 'scaled_차량아이디_빈도수',\n",
    "    # edge 판단 기준 threshold 설정\n",
    "    rating_threshold = 2\n",
    ")"
   ]
  },
  {
   "cell_type": "code",
   "execution_count": 49,
   "id": "d18e140e",
   "metadata": {},
   "outputs": [],
   "source": [
    "# torch 형태로 변형\n",
    "edge_index = torch.LongTensor(edge_index)\n",
    "edge_values = torch.tensor(edge_values)"
   ]
  },
  {
   "cell_type": "code",
   "execution_count": 50,
   "id": "20a2cd72",
   "metadata": {},
   "outputs": [
    {
     "name": "stdout",
     "output_type": "stream",
     "text": [
      "num_users 131, num_items 148\n"
     ]
    }
   ],
   "source": [
    "num_users = len(df['나이성별'].unique())\n",
    "num_items = len(df['차량아이디'].unique())\n",
    "\n",
    "print(f\"num_users {num_users}, num_items {num_items}\")"
   ]
  },
  {
   "cell_type": "code",
   "execution_count": 51,
   "id": "9027737b",
   "metadata": {},
   "outputs": [],
   "source": [
    "# R matrix는 사용자와 아이템의 상호작용 matrix이다\n",
    "# user와 item이 연결되면 1 연결되지 않으면 0을 나타낸다\n",
    "# R matrix를 transfer하여 기존 R matrix와 결합하면 adjaction matrix가 된다\n",
    "# R matrix를 adjaction matrix로 변환하는 함수이다\n",
    "def convert_r_mat_edge_index_to_adj_mat_edge_index(input_edge_index, input_edge_values):\n",
    "    R = torch.zeros((num_users, num_items))\n",
    "    for i in range(len(input_edge_index[0])):\n",
    "        row_idx = input_edge_index[0][i]\n",
    "        col_idx = input_edge_index[1][i]\n",
    "        R[row_idx][col_idx] = input_edge_values[i]\n",
    "    R_transpose = torch.transpose(R, 0, 1)\n",
    "    \n",
    "    adj_mat = torch.zeros((num_users + num_items, num_users + num_items))\n",
    "    adj_mat[:num_users, num_users:] = R.clone()\n",
    "    adj_mat[num_users:, :num_users] = R_transpose.clone()\n",
    "    \n",
    "    adj_mat_coo = adj_mat.to_sparse_coo()\n",
    "    adj_mat_coo_indices = adj_mat_coo.indices()\n",
    "    adj_mat_coo_values = adj_mat_coo.values()\n",
    "    \n",
    "    return adj_mat_coo_indices, adj_mat_coo_values"
   ]
  },
  {
   "cell_type": "code",
   "execution_count": 52,
   "id": "9bdc1825",
   "metadata": {},
   "outputs": [],
   "source": [
    "# adjaction matrix를 R matrix로 변환하는 함수이다. \n",
    "def convert_adj_mat_edge_index_to_r_mat_edge_index(input_edge_index, input_edge_values):\n",
    "    \n",
    "    device = input_edge_values.device\n",
    "    input_edge_index = input_edge_index.to(device)\n",
    "    \n",
    "    sparse_input_edge_index = SparseTensor(row = input_edge_index[0],\n",
    "                                           col = input_edge_index[1],\n",
    "                                           value = input_edge_values,\n",
    "                                           sparse_sizes = ((num_users + num_items), num_users+num_items))\n",
    "    \n",
    "    adj_mat = sparse_input_edge_index.to_dense()\n",
    "    interact_mat = adj_mat[: num_users, num_users:]\n",
    "                                           \n",
    "    r_mat_edge_index = interact_mat.to_sparse_coo().indices()\n",
    "    r_mat_edge_values = interact_mat.to_sparse_coo().values()\n",
    "                                    \n",
    "                                           \n",
    "    return r_mat_edge_index, r_mat_edge_values\n",
    "                                           "
   ]
  },
  {
   "cell_type": "code",
   "execution_count": 53,
   "id": "1d95ef2d",
   "metadata": {},
   "outputs": [],
   "source": [
    "class LightGCN(MessagePassing):\n",
    "    def __init__(self, num_users, num_items, embedding_dim=64, K=3, add_self_loops=False, dropout_rate=0.1):\n",
    "\n",
    "        super().__init__()\n",
    "        self.dropout_rate = dropout_rate\n",
    "        self.num_users = num_users\n",
    "        self.num_items = num_items\n",
    "        self.embedding_dim = embedding_dim\n",
    "        # 이웃 확산 스텝 수\n",
    "        self.K = K\n",
    "        # self loop 엣지 추가 여부 default = False\n",
    "        self.add_self_loops = add_self_loops\n",
    "\n",
    "        # user 임베딩\n",
    "        self.users_emb = nn.Embedding(num_embeddings=self.num_users, embedding_dim=self.embedding_dim) \n",
    "        \n",
    "        # item 임베딩\n",
    "        self.items_emb = nn.Embedding(num_embeddings=self.num_items, embedding_dim=self.embedding_dim) \n",
    "\n",
    "        \n",
    "        nn.init.normal_(self.users_emb.weight, std=0.1)\n",
    "        nn.init.normal_(self.items_emb.weight, std=0.1)\n",
    "\n",
    "        self.out = nn.Linear(embedding_dim + embedding_dim, 1)\n",
    "\n",
    "    def forward(self, edge_index: Tensor, edge_values: Tensor):\n",
    "        \n",
    "        # 정규화\n",
    "        edge_index_norm = gcn_norm(edge_index=edge_index, \n",
    "                                   add_self_loops=self.add_self_loops)\n",
    "\n",
    "        # 초기 임베딩 사용자와 아이템의 가중치 연결\n",
    "        # 하나의 행렬로 합침\n",
    "        emb_0 = torch.cat([self.users_emb.weight, self.items_emb.weight]) \n",
    "\n",
    "        embs = [emb_0]\n",
    "\n",
    "        emb_k = emb_0 \n",
    "        # K번 반복하면서 propagate 실행\n",
    "        # emb_k 업데이트\n",
    "        for i in range(self.K):\n",
    "            emb_k = self.propagate(edge_index=edge_index_norm[0], x=emb_k, norm=edge_index_norm[1])\n",
    "            embs.append(emb_k)\n",
    "\n",
    "        embs = torch.stack(embs, dim=1)\n",
    "        # 최종 임베딩\n",
    "        emb_final = torch.mean(embs, dim=1) \n",
    "\n",
    "        # 사용자와 아이템으로 분리\n",
    "        users_emb_final, items_emb_final = torch.split(emb_final, \n",
    "                                                       [self.num_users, self.num_items]) \n",
    "\n",
    "        r_mat_edge_index, _ = convert_adj_mat_edge_index_to_r_mat_edge_index(edge_index, edge_values)\n",
    "\n",
    "        src, dest =  r_mat_edge_index[0], r_mat_edge_index[1]\n",
    "\n",
    "        user_embeds = users_emb_final[src]\n",
    "        item_embeds = items_emb_final[dest]\n",
    "\n",
    "        output = torch.cat([user_embeds, item_embeds], dim=1)\n",
    "\n",
    "        output = self.out(output)\n",
    "\n",
    "        return output\n",
    "    \n",
    "    def message(self, x_j, norm):\n",
    "        return norm.view(-1, 1) * x_j\n",
    "\n"
   ]
  },
  {
   "cell_type": "code",
   "execution_count": 54,
   "id": "2c18b084",
   "metadata": {},
   "outputs": [],
   "source": [
    "def load_model_with_additional_info(path, model_class):\n",
    "    checkpoint = torch.load(path, map_location=torch.device('cpu'))\n",
    "    model = model_class(num_users=checkpoint['num_users'], num_items=checkpoint['num_items'])\n",
    "    model.load_state_dict(checkpoint['model_state_dict'])\n",
    "    return model, checkpoint['num_users'], checkpoint['num_items']\n",
    "model, num_users, num_items = load_model_with_additional_info(\"model_with_info.pth\", LightGCN)"
   ]
  },
  {
   "cell_type": "code",
   "execution_count": 55,
   "id": "c7099f70",
   "metadata": {},
   "outputs": [],
   "source": [
    "mask = edge_index[0] == 1\n",
    "test_edge_index = edge_index[:, mask]\n",
    "test_edge_values = edge_values[mask]"
   ]
  },
  {
   "cell_type": "code",
   "execution_count": 56,
   "id": "57ef45fe",
   "metadata": {},
   "outputs": [],
   "source": [
    "test_edge_index, test_edge_values = convert_r_mat_edge_index_to_adj_mat_edge_index(test_edge_index, test_edge_values)"
   ]
  },
  {
   "cell_type": "code",
   "execution_count": 57,
   "id": "e09cd487",
   "metadata": {},
   "outputs": [],
   "source": [
    "r_mat_test_edge_index, r_mat_test_edge_values = convert_adj_mat_edge_index_to_r_mat_edge_index(test_edge_index, test_edge_values)"
   ]
  },
  {
   "cell_type": "code",
   "execution_count": 58,
   "id": "98f705cf",
   "metadata": {},
   "outputs": [],
   "source": [
    "pred_ratings = model.forward(test_edge_index, test_edge_values)"
   ]
  },
  {
   "cell_type": "code",
   "execution_count": 59,
   "id": "fcd41ac8",
   "metadata": {},
   "outputs": [],
   "source": [
    "user_item_rating_list = defaultdict(list)\n",
    "recommended_items = defaultdict(list)\n",
    "item_recommend_count = defaultdict(int)"
   ]
  },
  {
   "cell_type": "code",
   "execution_count": 60,
   "id": "6127fdce",
   "metadata": {},
   "outputs": [],
   "source": [
    "for i in range(len(r_mat_test_edge_index[0])):\n",
    "    src = r_mat_test_edge_index[0][i].item()\n",
    "    dest = r_mat_test_edge_index[1][i].item()\n",
    "    true_rating = r_mat_test_edge_values[i].item()\n",
    "    pred_rating = pred_ratings[i].item()\n",
    "    user_item_rating_list[src].append((dest, pred_rating, true_rating))\n"
   ]
  },
  {
   "cell_type": "code",
   "execution_count": 61,
   "id": "870fb4e3",
   "metadata": {},
   "outputs": [],
   "source": [
    "k = 3\n",
    "for user_id, user_ratings in user_item_rating_list.items():\n",
    "    user_ratings.sort(key=lambda x: x[1], reverse=True) # pred_rating 기준으로 정렬 변경\n",
    "\n",
    "    top_k_items = [item_id for (item_id, pred_rating, true_rating) in user_ratings[:k]]\n",
    "    recommended_items[user_id].extend(top_k_items) # 추천된 아이템 저장\n",
    "\n",
    "    for item_id in top_k_items:\n",
    "        item_recommend_count[item_id] += 1"
   ]
  },
  {
   "cell_type": "code",
   "execution_count": 62,
   "id": "878fcc1f",
   "metadata": {
    "scrolled": true
   },
   "outputs": [
    {
     "data": {
      "text/plain": [
       "(defaultdict(list,\n",
       "             {1: [(13, 9.073601722717285, 7.916666507720947),\n",
       "               (12, 7.814752101898193, 5.708333492279053),\n",
       "               (83, 7.770683765411377, 3.5416667461395264),\n",
       "               (50, 7.117029190063477, 10.0),\n",
       "               (100, 6.829984188079834, 2.4166667461395264),\n",
       "               (47, 6.667362689971924, 4.958333492279053),\n",
       "               (90, 6.544060230255127, 3.6666667461395264),\n",
       "               (29, 6.309791564941406, 2.4583332538604736),\n",
       "               (4, 6.174278736114502, 2.0833332538604736),\n",
       "               (96, 6.064901828765869, 2.25),\n",
       "               (42, 6.023147106170654, 2.5416667461395264),\n",
       "               (30, 5.992813587188721, 3.4166667461395264)]}),\n",
       " defaultdict(list, {1: [13, 12, 83]}),\n",
       " defaultdict(int, {13: 1, 12: 1, 83: 1}))"
      ]
     },
     "execution_count": 62,
     "metadata": {},
     "output_type": "execute_result"
    }
   ],
   "source": [
    "user_item_rating_list, recommended_items, item_recommend_count"
   ]
  },
  {
   "cell_type": "code",
   "execution_count": null,
   "id": "3bc65e3a",
   "metadata": {},
   "outputs": [],
   "source": []
  }
 ],
 "metadata": {
  "kernelspec": {
   "display_name": "Python 3 (ipykernel)",
   "language": "python",
   "name": "python3"
  },
  "language_info": {
   "codemirror_mode": {
    "name": "ipython",
    "version": 3
   },
   "file_extension": ".py",
   "mimetype": "text/x-python",
   "name": "python",
   "nbconvert_exporter": "python",
   "pygments_lexer": "ipython3",
   "version": "3.10.9"
  }
 },
 "nbformat": 4,
 "nbformat_minor": 5
}
